{
  "nbformat": 4,
  "nbformat_minor": 0,
  "metadata": {
    "colab": {
      "provenance": []
    },
    "kernelspec": {
      "name": "python3",
      "display_name": "Python 3"
    },
    "language_info": {
      "name": "python"
    }
  },
  "cells": [
    {
      "cell_type": "markdown",
      "source": [
        "# Einfaches Beispiel einer linearen Regression"
      ],
      "metadata": {
        "id": "4_VDyafGZSCG"
      }
    },
    {
      "cell_type": "markdown",
      "source": [
        "Ziel: Funktion finden, die Eigenschaften einer Menge an Datenpunkten ausreichend gut abbildet\n",
        "- **eingehende Variablen (Prädikatoren)**: unabbhängig, können kontinuierlich, diskret oder auch kategorisch sein\n",
        "- **ausgehende Variablen (Kriterien)**: abhängig, in der Regel kontinuierlich und unbeschränkt\n",
        "  \n",
        "  -> unterstellt ist, dass ein **linearer Zusammenhang** besteht\n",
        "\n",
        "wofür braucht man lineare Regression?\n",
        "- um zu beantworten wie eingehende Variablen ein Phänomen beeinflussen\n",
        "- um eine Reaktion eines neuen Sets an Daten vorhersagen zu können\n",
        "\n",
        "\n",
        "**Zusammenhang der Variablen:**\n",
        "$\\ x = (x_1, ..., x_r);\\;$ mit Prädikator $r$\n",
        "\n",
        "$y = ax_i + b + e;\\;$ $a$ ist der Regressionskoeffizient, $b$ der y-Achsenabschnitt, $e$ der Zufallsfehler\n",
        "\n",
        "\n",
        "$y_i = ax + b;\\;$ geschätzte Reaktion, sollte möglichst nah an der tatsächlichen Reaktion $y_i$ sein (für jede Beobachtung $i = 1, ..., n)$\n",
        "\n",
        "$e_i = y_i - \\bar{y}_i;\\;$ Residuen (-> **sind möglichst zu minimieren!**)\n",
        "\n",
        "-> **Zielfunktion der linearen Regression mit der Methode der kleinsten Quadrate**\n",
        "\n",
        "**Quadratsumme der Residuen/Sum of Squares Regression:**\n",
        "\n",
        "$SSR = \\sum_{i=1}^n e_i^2 = \\sum_{i=1} ^n (y_i - \\bar{y}_i)^2;\\;$ Summe der quadrierten Residuen\n",
        "\n",
        "-> Quadrate sind notwendig, damit die Vorzeichen der Residuen keine Rolle spielen\n",
        "\n",
        "Einsetzen der Geradengleichung der geschätzten Reaktion:\n",
        "$SSR = \\sum_{i=1}^n (y_i - (ax_i + b))^2$\n",
        "\n",
        "Vereinfachen:\n",
        "\n",
        "$SSR = \\sum_{i=1}^n(y_i^2 - 2y_i(ax_i + b) + (ax +b)^2)$ # 2. Binomische Formel\n",
        "\n",
        "$= (y_i^2 - 2ax_iy_i - 2by_i + a^2x_i^2 + 2abxi + b^2)$ # 1. Binomische Formel\n",
        "\n",
        "Ableiten der Funktion nach a und b:\n",
        "[Rechenweg siehe Ziegenhagen 2013, S. 3-5]\n",
        "\n",
        "$a = \\frac{Cov(x, y)}{Var(x)} = \\frac{\\frac{1}{n} \\sum_{i=1}^n(x_i - \\bar{x})(y_i - \\bar{y})} {\\frac{1}{n} \\sum_{i=1}^n (x_i - \\bar{x})^2};\\;$ mit $\\bar{x}$ und $\\bar{y}$ als Mittelwerte der jeweiligen Datenmengen.\n",
        "\n",
        "$b = \\bar{y} - ax$\n",
        "\n",
        "**totale Quadratsumme/Sum of Squares Total**: Summe der quadrierten Differenz zwischen den einzelnen Datenpunkten $y_i$ und dem Mittelwert der geschätzten Werte $\\bar{y}$.\n",
        "\n",
        "$SST = \\sum_{i=1}^n(y_i – \\bar{y})^2$\n",
        "\n",
        "Aus SSR und SST lässt sich das Bestimmtheitsmaß der Funtktion R berechnen:\n",
        "\n",
        "$R = 1 - \\frac{SSR}{SST}$\n",
        "\n",
        "**Mean Square Error MSE**:\n",
        "\n",
        "Die Differenz der tatsächlichen Werte $y_i$ zu den geschätzten Werte $\\bar{y}_i$ werden mit der **Kostenfunktion** angegeben:\n",
        "\n",
        "$ J(a, b) = MSE = \\frac{1}{n} \\sum_{i=1}^n (y_i - \\bar{y}_i)^2;\\;$ mit $n$ als Zahl der Daten\n",
        "\n",
        "-> entspricht dem Fehler pro Datenpunkt, also SST/Anzahl der Daten\n",
        "\n",
        "Achten auf:\n",
        "- **underfitting**: Verhältnis der Daten wird mit der geschätzten Reaktion nicht angemessen abgebildet; zeigt sich in einem niedrigen R-Wert und schlechter Generalisierungsfähigkeit bei neuen Daten\n",
        "- **overfitting**: geschätzte Funktion lernt neben guter Generalisierung auch zufällige Schwankungen der Testdaten; zeigt sich in einem hohen R-Wert der Modellierungs-, und einem niedrigen R-Wert der Testdaten\n"
      ],
      "metadata": {
        "id": "-Rg5BCe4gRZf"
      }
    },
    {
      "cell_type": "markdown",
      "source": [
        "1. Import Packages"
      ],
      "metadata": {
        "id": "Y3LK2oKgTx0H"
      }
    },
    {
      "cell_type": "code",
      "execution_count": 1,
      "metadata": {
        "id": "p3BAu-MPezui"
      },
      "outputs": [],
      "source": [
        "import pandas as pd\n",
        "import numpy as np\n",
        "import math\n",
        "import operator\n",
        "import matplotlib.pyplot as plt\n",
        "%matplotlib inline"
      ]
    },
    {
      "cell_type": "markdown",
      "source": [
        "2. Import Datei als Dataframe\n",
        "\n",
        "Datensatz: https://www.kaggle.com/datasets/shubham47/students-score-dataset-linear-regression"
      ],
      "metadata": {
        "id": "PAQkCGOCT2f_"
      }
    },
    {
      "cell_type": "code",
      "source": [
        "data = pd.read_csv('student_scores.csv') # Datei dazu bei coLab zu Datein hinzufügen\n",
        "print(data.head())"
      ],
      "metadata": {
        "id": "UOhJACtcT91o",
        "colab": {
          "base_uri": "https://localhost:8080/"
        },
        "outputId": "127c7126-e5dd-42b4-f986-fd7569104943"
      },
      "execution_count": 3,
      "outputs": [
        {
          "output_type": "stream",
          "name": "stdout",
          "text": [
            "   Hours  Scores\n",
            "0    2.5      21\n",
            "1    5.1      47\n",
            "2    3.2      27\n",
            "3    8.5      75\n",
            "4    3.5      30\n"
          ]
        }
      ]
    },
    {
      "cell_type": "markdown",
      "source": [
        "3. Speichern der Werte als X und Y, Berechnung der Mittelwerte für 'a' und 'b'"
      ],
      "metadata": {
        "id": "5YyjUVT-T-D6"
      }
    },
    {
      "cell_type": "code",
      "source": [
        "X = data['Hours'].values\n",
        "Y = data['Scores'].values\n",
        "\n",
        "mean_x = np.mean(X)\n",
        "mean_y = np.mean(Y)"
      ],
      "metadata": {
        "id": "7rr3cv4uUH7a"
      },
      "execution_count": 4,
      "outputs": []
    },
    {
      "cell_type": "markdown",
      "source": [
        "4. Regressionskoeffizient a und Y-Achsenabschnitt b berechnen"
      ],
      "metadata": {
        "id": "tEmpvzcOMUkg"
      }
    },
    {
      "cell_type": "code",
      "source": [
        "# Gesamtzahl der Input-Daten\n",
        "a = len(X)\n",
        "\n",
        "# Berechnung von Varianz und Covarianz\n",
        "cov = 0\n",
        "var = 0\n",
        "for i in range(a):\n",
        "  cov += (X[i] - mean_x) * (Y[i] - mean_y)\n",
        "  var += (X[i] - mean_x) ** 2\n",
        "\n",
        "# Berechnung a und b\n",
        "a = cov / var\n",
        "b = mean_y - (a * mean_x)\n",
        "\n",
        "print (f'a = {round(a,2)} \\nb = {round(b,2)}')"
      ],
      "metadata": {
        "id": "uEh0rkyiMXEX",
        "colab": {
          "base_uri": "https://localhost:8080/"
        },
        "outputId": "8d7735e5-a27c-4b6b-e49f-8e79bb8b2822"
      },
      "execution_count": 7,
      "outputs": [
        {
          "output_type": "stream",
          "name": "stdout",
          "text": [
            "a = 9.78 \n",
            "b = 2.48\n"
          ]
        }
      ]
    },
    {
      "cell_type": "markdown",
      "source": [
        "\n",
        "5. Inputdaten und Regressionslinie Plotten"
      ],
      "metadata": {
        "id": "gZbKRpN2MYii"
      }
    },
    {
      "cell_type": "code",
      "source": [
        "max_x = np.max(X) + 20 # Einstellungen zur Skalierung des Diagramms\n",
        "min_x = np.min(Y) - 20\n",
        "\n",
        "x = np.linspace (min_x, max_x, 100)\n",
        "y = a * x + b\n",
        "\n",
        "plt.plot(x, y, color='#add6ff', label='Regression line')\n",
        "plt.scatter(X, Y, c='#833695', label='Data points')\n",
        "\n",
        "plt.xlabel('Hours')\n",
        "plt.ylabel('Scores')\n",
        "plt.legend()\n",
        "plt.show()"
      ],
      "metadata": {
        "id": "4wb-_GU6Mrwt",
        "colab": {
          "base_uri": "https://localhost:8080/",
          "height": 451
        },
        "outputId": "0728c761-b90f-4e96-9825-4e2db3f30e89"
      },
      "execution_count": 9,
      "outputs": [
        {
          "output_type": "display_data",
          "data": {
            "text/plain": [
              "<Figure size 640x480 with 1 Axes>"
            ],
            "image/png": "[encoded data removed]"
          },
          "metadata": {}
        }
      ]
    },
    {
      "cell_type": "markdown",
      "source": [
        "6. R-Quadratwert berechnen um die Güte der Funktion zu bestimmen"
      ],
      "metadata": {
        "id": "dFYVo2EhMvbd"
      }
    },
    {
      "cell_type": "code",
      "source": [
        "ss_t = 0 # Totale Quadratsumme\n",
        "ss_r = 0 # Summe der quadrierten Residuen\n",
        "\n",
        "val_count = len(X) # val_count gibt die Gesamtzahl der Datenpunkte an\n",
        "for i in range(int(val_count)):\n",
        "  y_pred = a * X[i] + b\n",
        "  ss_t += (Y[i] - mean_y) ** 2\n",
        "  ss_r += (Y[i] - y_pred) ** 2\n",
        "r2 = 1 - (ss_r/ss_t)\n",
        "\n",
        "print(f'R_squared = {round(r2,2)}')"
      ],
      "metadata": {
        "id": "_iWNIYODM2ns",
        "colab": {
          "base_uri": "https://localhost:8080/"
        },
        "outputId": "c1ae9a62-b156-4518-e9ca-a111adcf57e9"
      },
      "execution_count": 12,
      "outputs": [
        {
          "output_type": "stream",
          "name": "stdout",
          "text": [
            "R_squared = 0.95\n"
          ]
        }
      ]
    },
    {
      "cell_type": "markdown",
      "source": [
        "**Interpretation**: Mit einem R-Quadratwert von 0,95 können 95% der Varianz der abhängigen Variable durch die abhängige erklärt werden. Damit bietet die Funktion eine hohe Anpassung an die Daten."
      ],
      "metadata": {
        "id": "3iY662rSYc4V"
      }
    },
    {
      "cell_type": "markdown",
      "source": [
        "Quellen:\n",
        "- grundsätzlicher Aufbau: Sindhu Seelam(2021). Linear Regression From Scratch in Python WITHOUT Scikit-learn, URL: https://medium.com/geekculture/linear-regression-from-scratch-in-python-without-scikit-learn-a06efe5dedb6\n",
        "- mathematische Grundlagen: Marcus Kunter (2018). Regression I [Video], URL: https://www.youtube.com/watch?v=osPwkFkYvNc\n",
        "- Ausführung zur Herleitung der Parametergleichungen: Uwe Ziegenhagen (2013). Herleitung der Parameter-Gleichungen für die einfache lineare Regression, URL: https://www.uweziegenhagen.de/teaching/stat/linreg.pdf\n",
        "- Überlegungen zu Overfitting und Underfitting: Mirko Stojiljković (2022). Linear Regression in Python, URL: https://realpython.com/linear-regression-in-python/#underfitting-and-overfitting\n"
      ],
      "metadata": {
        "id": "3whO_pKHf5FD"
      }
    }
  ]
}